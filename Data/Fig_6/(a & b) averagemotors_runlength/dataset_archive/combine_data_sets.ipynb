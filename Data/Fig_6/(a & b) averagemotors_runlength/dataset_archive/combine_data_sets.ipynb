{
 "cells": [
  {
   "cell_type": "code",
   "execution_count": 1,
   "metadata": {},
   "outputs": [],
   "source": [
    "#combines the runlength, average number of motors for 2mM and 4uM simulations with data from 100um runs.\n",
    "import pandas as pd\n",
    "import os\n",
    "\n",
    "filename=\"average_motor_runlength\"\n",
    "high_low=pd.read_csv('summary_high_low_atp.csv',index_col=0)\n",
    "mid_atp=pd.read_csv('summary_mid_atp.csv',index_col=0)\n",
    "mid_atp = mid_atp.drop(columns=[\"measured_velocity\",\"vel_error\"])\n",
    "frames = [high_low, mid_atp]\n",
    "result = pd.concat(frames,axis=0)\n",
    "frames = [high_low, mid_atp]\n",
    "result = pd.concat(frames,axis=0,ignore_index=True)\n",
    "data_top = result.head()  \n",
    "result=result.rename(columns={\"ATP\": \"[ATP] (M)\", \"Inp. velocity (ums-1)\": \"v0 (m/s)\",\"mean_run\": \"mean_run (m)\",\n",
    "                             \"runerror\":\"runerror (m)\",\"liftimeerror\":\"lifetimeerror (s)\"})\n",
    "result.to_csv(filename+'.csv', index = False) "
   ]
  }
 ],
 "metadata": {
  "kernelspec": {
   "display_name": "Python 3",
   "language": "python",
   "name": "python3"
  },
  "language_info": {
   "codemirror_mode": {
    "name": "ipython",
    "version": 3
   },
   "file_extension": ".py",
   "mimetype": "text/x-python",
   "name": "python",
   "nbconvert_exporter": "python",
   "pygments_lexer": "ipython3",
   "version": "3.7.6"
  }
 },
 "nbformat": 4,
 "nbformat_minor": 4
}
