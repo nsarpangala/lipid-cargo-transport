{
 "cells": [
  {
   "cell_type": "code",
   "execution_count": 1,
   "metadata": {},
   "outputs": [],
   "source": [
    "import os\n",
    "import pandas as pd\n",
    "import matplotlib.pyplot as plt\n",
    "from matplotlib.lines import Line2D\n",
    "project_folder=os.getenv(\"HOME\")+\"/lipid_cargo_transport_v2/\""
   ]
  },
  {
   "cell_type": "code",
   "execution_count": 4,
   "metadata": {},
   "outputs": [],
   "source": [
    "df=pd.read_csv('force_correlations_variance_with_rotation.csv',index_col=0)"
   ]
  },
  {
   "cell_type": "code",
   "execution_count": 8,
   "metadata": {},
   "outputs": [
    {
     "data": {
      "image/png": "[encoded data removed]",
      "text/plain": [
       "<Figure size 288x252 with 1 Axes>"
      ]
     },
     "metadata": {
      "needs_background": "light"
     },
     "output_type": "display_data"
    }
   ],
   "source": [
    "df_corr=df\n",
    "df_corr=df_corr.astype({\"no_bound\": int})\n",
    "\n",
    "#corr_err=df_corr_piv[\"error (pN2)\"]\n",
    "\n",
    "my_colors=['#4D5E76','#C66037','#EDCB51']\n",
    "\n",
    "fig, axes = plt.subplots(figsize=(3,8))\n",
    "[llsiz,lfsiz]=[12,12]\n",
    "\n",
    "colmn=[2,3,4]\n",
    "gap=0.1\n",
    "shift=0.6\n",
    "rshift=0.03\n",
    "marker=['o','^']\n",
    "\n",
    "R_mar={0:['o',\"Without rotation\"],1:['^','With rotation']}\n",
    "\n",
    "def plotter(ax,df_corr):\n",
    "    for r in [0,1]:\n",
    "            df_corr_ext=df_corr[df_corr[\"Rotation\"]==r]\n",
    "            df_corr_piv=df_corr_ext.pivot(index=\"D\",columns='no_bound')\n",
    "            corr_df=df_corr_piv[\"mean_fi_fj (pN2)\"]\n",
    "            corr_err=df_corr_piv[\"error_corr (pN2)\"]\n",
    "            \n",
    "            for ii in range(len(colmn)):\n",
    "                colm=colmn[ii]\n",
    "                if r==0:\n",
    "                    ax.errorbar([ii*gap+rshift*r,rshift*r+shift+ii*gap], corr_df[colm], yerr=corr_err[colm], \n",
    "                                 marker=R_mar[r][0], capsize=3,color=my_colors[ii],linestyle='None',markersize=7,label=r'$n=$'+str(colm))\n",
    "\n",
    "                else:\n",
    "                    ax.errorbar([ii*gap+rshift*r,rshift*r+shift+ii*gap], corr_df[colm], yerr=corr_err[colm], \n",
    "                                 marker=R_mar[r][0], capsize=3,color=my_colors[ii],linestyle='None',markersize=7)\n",
    "\n",
    "                bar_lw=0.7\n",
    "                bar_col='k'\n",
    "                ax.plot([ii*gap+rshift*r,rshift*r+ii*gap],[0,corr_df[colm][0]],color=bar_col,lw=bar_lw)\n",
    "                ax.plot([shift+ii*gap+rshift*r,rshift*r+shift+ii*gap],[0,corr_df[colm][1]],color=bar_col,lw=bar_lw)\n",
    "            ax.set_xticks([gap,gap+shift])\n",
    "                #\n",
    "            ax.set_xticklabels(['0','1'])\n",
    "            free_length=0.075\n",
    "            ax.set_xlim([-free_length,shift+ii*gap+free_length])\n",
    "    return ax\n",
    "\n",
    "axes=plotter(axes,df_corr)\n",
    "axes.set_ylim([-0.8,0.2])\n",
    "axes.axhline(y=0,linestyle='--',lw=1.2,color='k')\n",
    "\n",
    "#axes=plotter(var_df_rescale,var_err_df_rescale,axes[0])\n",
    "#axes.set_ylim([0,4.8])\n",
    "\n",
    "\n",
    "[llsiz,lfsiz]=[14,14]\n",
    "#axes.legend(fontsize=lfsiz-1,title='Bound motors',frameon=False)\n",
    "#axes[1].legend(title='bound motors',handles=handles,labels=new_labels,bbox_to_anchor=(0.385, 0.84))\n",
    "axes.set_xlabel(r'Diffusion constant, D ( $\\mu m^2 s^{-1}$ )',fontname='serif',fontsize=lfsiz)\n",
    "#axes[0].set_ylabel(r'Mean Variance, $\\langle \\sigma_{|f|}^2 \\rangle \\; (pN^2)$',fontname='serif',fontsize=lfsiz)\n",
    "axes.tick_params(axis='both',which='both', labelsize=llsiz)\n",
    "axes.tick_params(axis='both',which='major',length=5,width=1)\n",
    "#axes.set_xlabel(r'$D$ ($\\mu m^2s^{-1}$)',fontname='serif',fontsize=lfsiz)\n",
    "axes.set_ylabel(r'Force Correlation, $\\langle F_{x}^{j} F_{x}^{k} \\rangle \\; (pN^2)$ ',fontname='serif',fontsize=lfsiz)\n",
    "#axes[0].tick_params(axis='both',which='both', labelsize=llsiz)\n",
    "#axes[0].tick_params(axis='both',which='major',length=5,width=1 )\n",
    "\n",
    "#for ax in axes:\n",
    "axes.tick_params(axis='x',which='major',length=7,width=1)\n",
    "plt.tight_layout()\n",
    "fig.set_size_inches(4,3.5)\n",
    "\n",
    "filename=\"correlations\"\n",
    "fig.savefig(filename+\".svg\", bbox_inches='tight')\n",
    "fig.savefig(filename+\".pdf\", bbox_inches='tight')\n",
    "fig.savefig(filename+\".eps\", bbox_inches='tight')\n",
    "fig.savefig(filename+\".png\", bbox_inches='tight',dpi=600)"
   ]
  },
  {
   "cell_type": "code",
   "execution_count": 9,
   "metadata": {},
   "outputs": [
    {
     "data": {
      "image/png": "[encoded data removed]",
      "text/plain": [
       "<Figure size 288x252 with 1 Axes>"
      ]
     },
     "metadata": {
      "needs_background": "light"
     },
     "output_type": "display_data"
    }
   ],
   "source": [
    "\n",
    "fig, axes = plt.subplots(figsize=(3,8))\n",
    "\n",
    "def plotter(ax,df_corr):\n",
    "    for r in [0,1]:\n",
    "            df_corr_ext=df_corr[df_corr[\"Rotation\"]==r]\n",
    "            df_corr_piv=df_corr_ext.pivot(index=\"D\",columns='no_bound')\n",
    "            corr_df=df_corr_piv[\"mean_variance (pN2)\"]\n",
    "            corr_err=df_corr_piv[\"error_variance (pN2)\"]\n",
    "            \n",
    "            for ii in range(len(colmn)):\n",
    "                colm=colmn[ii]\n",
    "                if r==0:\n",
    "                    ax.errorbar([ii*gap+rshift*r,rshift*r+shift+ii*gap], corr_df[colm], yerr=corr_err[colm], \n",
    "                                 marker=R_mar[r][0], capsize=3,color=my_colors[ii],linestyle='None',markersize=7,label=r'$n=$'+str(colm))\n",
    "\n",
    "                else:\n",
    "                    ax.errorbar([ii*gap+rshift*r,rshift*r+shift+ii*gap], corr_df[colm], yerr=corr_err[colm], \n",
    "                                 marker=R_mar[r][0], capsize=3,color=my_colors[ii],linestyle='None',markersize=7)\n",
    "\n",
    "                bar_lw=0.7\n",
    "                bar_col='k'\n",
    "                ax.plot([ii*gap+rshift*r,rshift*r+ii*gap],[0,corr_df[colm][0]],color=bar_col,lw=bar_lw)\n",
    "                ax.plot([shift+ii*gap+rshift*r,rshift*r+shift+ii*gap],[0,corr_df[colm][1]],color=bar_col,lw=bar_lw)\n",
    "            ax.set_xticks([gap,gap+shift])\n",
    "                #\n",
    "            ax.set_xticklabels(['0','1'])\n",
    "            free_length=0.075\n",
    "            ax.set_xlim([-free_length,shift+ii*gap+free_length])\n",
    "    return ax\n",
    "\n",
    "axes=plotter(axes,df_corr)\n",
    "axes.set_ylim([0,7])\n",
    "[llsiz,lfsiz]=[14,14]\n",
    "axes.legend(fontsize=lfsiz-1,title='Bound motors',frameon=False)\n",
    "#axes[1].legend(title='bound motors',handles=handles,labels=new_labels,bbox_to_anchor=(0.385, 0.84))\n",
    "axes.set_xlabel(r'Diffusion constant, D ( $\\mu m^2 s^{-1}$ )',fontname='serif',fontsize=lfsiz)\n",
    "#axes[0].set_ylabel(r'Mean Variance, $\\langle \\sigma_{|f|}^2 \\rangle \\; (pN^2)$',fontname='serif',fontsize=lfsiz)\n",
    "axes.tick_params(axis='both',which='both', labelsize=llsiz)\n",
    "axes.tick_params(axis='both',which='major',length=5,width=1)\n",
    "#axes.set_xlabel(r'$D$ ($\\mu m^2s^{-1}$)',fontname='serif',fontsize=lfsiz)\n",
    "axes.set_ylabel(r'Mean Variance ( p$N^2$ )',fontname='serif',fontsize=lfsiz)\n",
    "#axes[0].tick_params(axis='both',which='both', labelsize=llsiz)\n",
    "#axes[0].tick_params(axis='both',which='major',length=5,width=1 )\n",
    "\n",
    "#for ax in axes:\n",
    "axes.tick_params(axis='x',which='major',length=7,width=1)\n",
    "plt.tight_layout()\n",
    "fig.set_size_inches(4,3.5)\n",
    "\n",
    "filename=\"variance\"\n",
    "fig.savefig(filename+\".svg\", bbox_inches='tight')\n",
    "fig.savefig(filename+\".pdf\", bbox_inches='tight')\n",
    "fig.savefig(filename+\".eps\", bbox_inches='tight')\n",
    "fig.savefig(filename+\".png\", bbox_inches='tight',dpi=600)"
   ]
  },
  {
   "cell_type": "code",
   "execution_count": null,
   "metadata": {},
   "outputs": [],
   "source": []
  }
 ],
 "metadata": {
  "kernelspec": {
   "display_name": "MyPython",
   "language": "python",
   "name": "mypython"
  },
  "language_info": {
   "codemirror_mode": {
    "name": "ipython",
    "version": 3
   },
   "file_extension": ".py",
   "mimetype": "text/x-python",
   "name": "python",
   "nbconvert_exporter": "python",
   "pygments_lexer": "ipython3",
   "version": "3.7.4"
  }
 },
 "nbformat": 4,
 "nbformat_minor": 4
}
